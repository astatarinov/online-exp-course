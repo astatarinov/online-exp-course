{
 "cells": [
  {
   "cell_type": "code",
   "execution_count": 9,
   "id": "08b0d2b5-2ff7-463e-96f5-88b624337901",
   "metadata": {},
   "outputs": [],
   "source": [
    "import numpy as np\n",
    "import pandas as pd\n",
    "import seaborn as sns\n",
    "from matplotlib import pyplot as plt\n",
    "from scipy import stats\n",
    "from tqdm.notebook import tqdm as tqdm_notebook"
   ]
  },
  {
   "cell_type": "markdown",
   "id": "9e804852-7499-4af3-aa2a-394982f77598",
   "metadata": {},
   "source": [
    "### Задача 1. CUPED (2.5 балла)\n",
    "\n",
    "Cгенерируем выборку из $1000$ сэмплов экспоненциального распределения - это будут значения нашей метрики для $1000$ пользователей"
   ]
  },
  {
   "cell_type": "code",
   "execution_count": 10,
   "id": "c2a294bd-2de3-42e3-b3e3-9ddba24dbd67",
   "metadata": {},
   "outputs": [],
   "source": [
    "control_before = stats.expon(scale=1000).rvs(1000)"
   ]
  },
  {
   "cell_type": "code",
   "execution_count": 11,
   "id": "ef4a4179-4612-4f9f-950b-4f33e82f37f9",
   "metadata": {},
   "outputs": [
    {
     "data": {
      "image/png": "[encoded data removed]",
      "text/plain": [
       "<Figure size 640x480 with 1 Axes>"
      ]
     },
     "metadata": {},
     "output_type": "display_data"
    }
   ],
   "source": [
    "plt.hist(control_before, bins=100)\n",
    "plt.show()"
   ]
  },
  {
   "cell_type": "markdown",
   "id": "abb7d996-56cf-4973-af15-5c25d363b36f",
   "metadata": {},
   "source": [
    "Предположим, что при наблюдении метрики в дальнейшем добавляется какой-то нормальный шум"
   ]
  },
  {
   "cell_type": "code",
   "execution_count": 12,
   "id": "32e7e28a-9295-4571-ad26-69440c784738",
   "metadata": {},
   "outputs": [],
   "source": [
    "control = control_before + stats.norm(loc=0, scale=100).rvs(1000)"
   ]
  },
  {
   "cell_type": "code",
   "execution_count": 13,
   "id": "c263b130-0f79-4033-b700-5ae94523a347",
   "metadata": {},
   "outputs": [
    {
     "data": {
      "image/png": "[encoded data removed]",
      "text/plain": [
       "<Figure size 640x480 with 1 Axes>"
      ]
     },
     "metadata": {},
     "output_type": "display_data"
    }
   ],
   "source": [
    "plt.hist(control, bins=100)\n",
    "plt.show()"
   ]
  },
  {
   "cell_type": "markdown",
   "id": "b82b8e34-70aa-463c-bc33-f93238ef60d9",
   "metadata": {},
   "source": [
    "Теперь построим доверительный интервал для среднего значения нашей метрики и посмотрим, появилась ли стат значимая разница. Проведем такой эксперимент $10000$ раз"
   ]
  },
  {
   "cell_type": "code",
   "execution_count": 14,
   "id": "2aa7e96b-0131-422d-bd33-401c3e2be97c",
   "metadata": {},
   "outputs": [
    {
     "data": {
      "text/plain": [
       "array([ 938.37289257, 1062.22999428])"
      ]
     },
     "execution_count": 14,
     "metadata": {},
     "output_type": "execute_result"
    }
   ],
   "source": [
    "stats.norm(loc=control.mean(), scale=control.std() / np.sqrt(len(control))).ppf(\n",
    "    [0.025, 0.975]\n",
    ")"
   ]
  },
  {
   "cell_type": "code",
   "execution_count": 15,
   "id": "626460db-6abe-416f-840a-0922e45b010f",
   "metadata": {},
   "outputs": [
    {
     "data": {
      "application/vnd.jupyter.widget-view+json": {
       "model_id": "28f7f62379954a45af653256e6a527f0",
       "version_major": 2,
       "version_minor": 0
      },
      "text/plain": [
       "  0%|          | 0/10000 [00:00<?, ?it/s]"
      ]
     },
     "metadata": {},
     "output_type": "display_data"
    },
    {
     "name": "stdout",
     "output_type": "stream",
     "text": [
      "Стат значимая разница есть в 5.41% случаев;\n"
     ]
    }
   ],
   "source": [
    "bad_cnt = 0\n",
    "\n",
    "N = 10000\n",
    "for i in tqdm_notebook(range(N)):\n",
    "    control_before = stats.expon(scale=1000).rvs(1000)\n",
    "    control = control_before + stats.norm(loc=0, scale=100).rvs(1000)\n",
    "    left_bound, right_bound = stats.norm(\n",
    "        loc=control.mean(), scale=control.std() / np.sqrt(len(control))\n",
    "    ).ppf([0.025, 0.975])\n",
    "\n",
    "    if left_bound > 1000 or right_bound < 1000:\n",
    "        bad_cnt += 1\n",
    "\n",
    "print(f\"Стат значимая разница есть в {round(bad_cnt / N, 4) * 100}% случаев;\")"
   ]
  },
  {
   "cell_type": "markdown",
   "id": "4b6e77b1-dbf4-4de9-9d01-1e3be1eff55d",
   "metadata": {},
   "source": [
    "Как мы видим такой тест ошибается в около $5$% случаев, так как находит разницу в среднем. Ваша задача построить CUPED-метрику основываясь на данной метрике и провести аналогичный тест"
   ]
  },
  {
   "cell_type": "code",
   "execution_count": 31,
   "id": "ad0bbedc-4bbb-421f-9683-0eb7d2a6d3b9",
   "metadata": {},
   "outputs": [],
   "source": [
    "bad_cnt = 0\n",
    "\n",
    "N = 10000\n",
    "for i in tqdm_notebook(range(N)):\n",
    "    control_before = stats.expon(scale=1000).rvs(1000)\n",
    "    control = control_before + stats.norm(loc=0, scale=100).rvs(1000)\n",
    "\n",
    "    mean = ...\n",
    "    std = ...\n",
    "    left_bound, right_bound = stats.norm(loc=mean, scale=std).ppf([0.025, 0.975])\n",
    "\n",
    "    if left_bound > 1000 or right_bound < 1000:\n",
    "        bad_cnt += 1\n",
    "\n",
    "print(f\"Стат значимая разница есть в  {round(bad_cnt / N, 4) * 100}% случаев;\")"
   ]
  },
  {
   "cell_type": "markdown",
   "id": "a83060c9-b06c-4c10-b1fa-e7d446d3fec1",
   "metadata": {},
   "source": [
    "Результат должен получиться не очень хороший. Давайте теперь сделаем иначе: сгенерируем выборку из $10000$ значений, а затем выберем $2$ группы по $1000$ юзеров, которые будут нашими группами для теста. Опять добавим шум в обе группы аналогично тому, что показано в первом примере с теми же параметрами. Ваша задача вписать CUPED метрики используя знание обо всех $10000$ юзерах."
   ]
  },
  {
   "cell_type": "code",
   "execution_count": null,
   "id": "509730e6-ed5a-45a8-b7a4-f5bb3006b0fb",
   "metadata": {},
   "outputs": [],
   "source": [
    "bad_cnt = 0\n",
    "\n",
    "N = 10000\n",
    "for i in tqdm_notebook(range(N)):\n",
    "    control_before_full = stats.expon(scale=1000).rvs(1000 * 10)\n",
    "    samples_in_ab = 2000\n",
    "    indexes_to_take_a = np.random.choice(\n",
    "        range(samples_in_ab), samples_in_ab // 2, False\n",
    "    )\n",
    "    indexes_to_take_b = [x for x in range(samples_in_ab) if x not in indexes_to_take_a]\n",
    "\n",
    "    control_before_a = control_before_full[indexes_to_take_a]\n",
    "    control_before_b = control_before_full[indexes_to_take_b]\n",
    "\n",
    "    control_after_a = control_before_a + stats.norm(loc=0, scale=100).rvs(\n",
    "        samples_in_ab // 2\n",
    "    )\n",
    "    control_after_b = control_before_b + stats.norm(loc=0, scale=100).rvs(\n",
    "        samples_in_ab // 2\n",
    "    )\n",
    "\n",
    "    control_cup_a = ...\n",
    "    control_cup_b = ...\n",
    "\n",
    "    if stats.kstest(control_cup_a, control_cup_b).pvalue < 0.05:\n",
    "        bad_cnt += 1\n",
    "\n",
    "print(f\"Стат значимая разница есть в  {round(bad_cnt / N, 4) * 100}% случаев;\")"
   ]
  },
  {
   "cell_type": "markdown",
   "id": "bfdd1352-dcae-4d89-af4c-3290a59d3c05",
   "metadata": {},
   "source": [
    "Результат получился уже совсем другой. Опишите свои мысли по поводу того, из-за чего возникает такая разница:\n",
    "\n"
   ]
  },
  {
   "cell_type": "markdown",
   "id": "8db3064b-79b1-4cf1-aea2-3da21ec42230",
   "metadata": {},
   "source": [
    "Далее проделаем такой же эксперимент при наличии реального смещения среднего значения и посмотрим на результаты с CUPED и без."
   ]
  },
  {
   "cell_type": "code",
   "execution_count": null,
   "id": "a8fc0b3c-7e6d-4926-b0f7-2ef8a5063b65",
   "metadata": {},
   "outputs": [],
   "source": [
    "bad_cnt = 0\n",
    "bad_cnt_cuped = 0\n",
    "\n",
    "N = 10000\n",
    "for i in tqdm_notebook(range(N)):\n",
    "    control_before_full = sps.expon(scale=1000).rvs(1000 * 10)\n",
    "    samples_in_ab = 2000\n",
    "    indexes_to_take_a = np.random.choice(\n",
    "        range(samples_in_ab), samples_in_ab // 2, False\n",
    "    )\n",
    "    indexes_to_take_b = [x for x in range(samples_in_ab) if x not in indexes_to_take_a]\n",
    "\n",
    "    control_before_a = control_before_full[indexes_to_take_a]\n",
    "    control_before_b = control_before_full[indexes_to_take_b]\n",
    "\n",
    "    control_after_a = control_before_a + stats.norm(loc=0, scale=100).rvs(\n",
    "        samples_in_ab // 2\n",
    "    )\n",
    "    control_after_b = control_before_b + stats.norm(loc=10, scale=100).rvs(\n",
    "        samples_in_ab // 2\n",
    "    )\n",
    "\n",
    "    control_cup_a = ...\n",
    "    control_cup_b = ...\n",
    "\n",
    "    if stats.kstest(control_after_a, control_after_b).pvalue < 0.05:\n",
    "        bad_cnt += 1\n",
    "\n",
    "    if stats.kstest(control_cup_a, control_cup_b).pvalue < 0.05:\n",
    "        bad_cnt_cuped += 1\n",
    "\n",
    "print(\n",
    "    f\"Стат значимая разница есть в  {round(bad_cnt / N, 4) * 100}% случаев; при использовании CUPED -- в {round(bad_cnt_cuped / N, 4) * 100}% случаев\"\n",
    ")"
   ]
  },
  {
   "cell_type": "markdown",
   "id": "8000c6a5-8380-491d-b91c-f0fa598315b6",
   "metadata": {},
   "source": [
    "### Задача 2. Методы снижения дисперсии (2.5 балла)\n",
    "\n",
    "В этой части задания вам нужно применить методы снижения дисперсии с лекций, чтобы провести более точные тесты по данным из файла.\n",
    "\n",
    "Данные представляют собой значение какой-то метрики для трех возрастных групп пользователей. Столбец group отвечает за группу, в которой находятся пользователи: \n",
    "- `None` - пользователь не участвует в АБ тесте, \n",
    "- `*_before_i` - соответствующая группа до начала теста, \n",
    "- `*_after_i` - группа после начала эксперимента\n",
    "\n",
    "Чем больше i, тем позже было сделано наблюдение. \n",
    "\n",
    "Cчитайте, что юзеры всегда идут в одном порядке в группах. То есть `data[data.group == 'control_before_i']`\n",
    "дает юзеров в той же последовательности, что `data[data.group == 'control_after_i']` для всех i.  Аналогичное верно для тритмента.\n",
    "\n",
    "\n",
    "#### Задание\n",
    "1. Напишите тест Стьюдента самостоятельно - то есть вы должны сами вычислить тестовую статистику, а затем используя квантильную функцию определить p-value. Квантили можно брать из готовых библиотек.\n",
    "\n",
    "2. Реализуйте пост-стратификацию и CUPED. \n",
    "\n",
    "3. Проведите тесты между `control_before_i` и `treatment_before_i` снчала без применения пост-стратификации и CUPED, а затем с ними. Без применения каких-либо методов такой тест покажет p-value около $0.05$ только при i == 5. Ваша задача применить методы уменьшения дисперсии, чтобы с помощью теста Стьюдента можно было обнаружить отличие на уровне значимости $0.05$\n",
    "\n",
    "4. Опишите свои результаты."
   ]
  },
  {
   "cell_type": "code",
   "execution_count": 17,
   "id": "bf16c190-ebb6-4878-bd18-9ca9b160cda0",
   "metadata": {},
   "outputs": [],
   "source": [
    "data = pd.read_csv(\"data_ab.csv\")"
   ]
  },
  {
   "cell_type": "code",
   "execution_count": 18,
   "id": "be1b0d0f",
   "metadata": {},
   "outputs": [
    {
     "data": {
      "text/html": [
       "<div>\n",
       "<style scoped>\n",
       "    .dataframe tbody tr th:only-of-type {\n",
       "        vertical-align: middle;\n",
       "    }\n",
       "\n",
       "    .dataframe tbody tr th {\n",
       "        vertical-align: top;\n",
       "    }\n",
       "\n",
       "    .dataframe thead th {\n",
       "        text-align: right;\n",
       "    }\n",
       "</style>\n",
       "<table border=\"1\" class=\"dataframe\">\n",
       "  <thead>\n",
       "    <tr style=\"text-align: right;\">\n",
       "      <th></th>\n",
       "      <th>age</th>\n",
       "      <th>metric</th>\n",
       "      <th>group</th>\n",
       "    </tr>\n",
       "  </thead>\n",
       "  <tbody>\n",
       "    <tr>\n",
       "      <th>0</th>\n",
       "      <td>young</td>\n",
       "      <td>11309.036916</td>\n",
       "      <td>treatment_before</td>\n",
       "    </tr>\n",
       "    <tr>\n",
       "      <th>1</th>\n",
       "      <td>young</td>\n",
       "      <td>8496.554679</td>\n",
       "      <td>control_before</td>\n",
       "    </tr>\n",
       "    <tr>\n",
       "      <th>2</th>\n",
       "      <td>young</td>\n",
       "      <td>11891.862586</td>\n",
       "      <td>control_before</td>\n",
       "    </tr>\n",
       "    <tr>\n",
       "      <th>3</th>\n",
       "      <td>young</td>\n",
       "      <td>9229.445011</td>\n",
       "      <td>treatment_before</td>\n",
       "    </tr>\n",
       "    <tr>\n",
       "      <th>4</th>\n",
       "      <td>young</td>\n",
       "      <td>10410.961279</td>\n",
       "      <td>control_before</td>\n",
       "    </tr>\n",
       "  </tbody>\n",
       "</table>\n",
       "</div>"
      ],
      "text/plain": [
       "     age        metric             group\n",
       "0  young  11309.036916  treatment_before\n",
       "1  young   8496.554679    control_before\n",
       "2  young  11891.862586    control_before\n",
       "3  young   9229.445011  treatment_before\n",
       "4  young  10410.961279    control_before"
      ]
     },
     "execution_count": 18,
     "metadata": {},
     "output_type": "execute_result"
    }
   ],
   "source": [
    "data.head()"
   ]
  },
  {
   "cell_type": "markdown",
   "id": "89f50436",
   "metadata": {},
   "source": [
    "### Задача 3. Линеаризация + CUPED (2 балла)\n",
    "\n",
    "1. В файле `duration_aa.csv` содержатся данные для АА-теста. Проверьте гипотезу о равенстве средних длительностей визита с помощью линеаризации, постройте распределение p-value.\n",
    "\n",
    "2. Мы поменяли верстку нашего сайта и запустили АБ-тест, чтобы выяснить, увеличилась ли средняя продолжительность визита при новом дизайне. Результаты теста лежат в файле `duration_ab.csv`. С помощью линеаризованной метрики проверьте, есть ли разница в средней длительности визита между контрольной и тестовой группами.\n",
    "\n",
    "3. Примените CUPED и снова проведите АБ-тест. Что произошло с p-value? Почему?\n",
    "\n",
    "В каждом пункте необходимо визуализировать распределение p-value и сонаправленность линеаризованной разности метрик и разности ratio-метрик."
   ]
  },
  {
   "cell_type": "markdown",
   "id": "179cec30",
   "metadata": {},
   "source": [
    "### Задача 4. Последовательное тестирование (3 балла)\n",
    "\n",
    "Сгенерируйте две контрольные выборки и одну тестовую (с эффектом). Проведите последовательные АА-тесты и АБ-тесты по следующей схеме:\n",
    "\n",
    "1. Попробуйте использовать t-test. Начните с 1 наблюдения в группах и последовательно добавлять по одному в каждую. Проследите, как меняется О1Р, О2Р.\n",
    "\n",
    "2. Самостоятельно реализуйте **SPRT-тест Вальда** и проделайте ту же процедуру с ним. Что теперь происходит с О1Р и О2Р? Почему?"
   ]
  },
  {
   "cell_type": "markdown",
   "id": "ede62d8c",
   "metadata": {},
   "source": [
    "### Задача 5. Бонус от лектора (5 баллов)\n",
    "\n",
    "_3 балла за выполнение __всех__ пунктов 1-5. +2 балла за пункт 6, при условии, что пункты 1-5 выполнены._\n",
    "\n",
    "1. Реализуйте mSPRT, предполагая, что функция правдободобия имеет нормальное распределение \n",
    "2. Выведите теоретический вид статистики $\\Lambda_n$ для нормального распределения \n",
    "3. Постройте распределение времени остановки для mSPRT и распределение p-value на А/А тесте \n",
    "4. Сделайте то же самое, но для синтетического А/В (добавьте искуственно эффект). Опишите, что поменялось \n",
    "5. Сравните mSPRT с классическим t-test\n",
    "6. Замените расчет интеграла  $\\Lambda_n$ на численное приближение расчета. Сравните результаты по пункту 3 и 4"
   ]
  },
  {
   "cell_type": "code",
   "execution_count": null,
   "id": "c1549ccc",
   "metadata": {},
   "outputs": [],
   "source": []
  }
 ],
 "metadata": {
  "kernelspec": {
   "display_name": "Python 3 (ipykernel)",
   "language": "python",
   "name": "python3"
  },
  "language_info": {
   "codemirror_mode": {
    "name": "ipython",
    "version": 3
   },
   "file_extension": ".py",
   "mimetype": "text/x-python",
   "name": "python",
   "nbconvert_exporter": "python",
   "pygments_lexer": "ipython3",
   "version": "3.10.8"
  }
 },
 "nbformat": 4,
 "nbformat_minor": 5
}