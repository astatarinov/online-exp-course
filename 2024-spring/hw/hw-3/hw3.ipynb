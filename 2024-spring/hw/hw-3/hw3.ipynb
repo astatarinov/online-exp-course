{
 "cells": [
  {
   "cell_type": "code",
   "execution_count": 5,
   "id": "08b0d2b5-2ff7-463e-96f5-88b624337901",
   "metadata": {},
   "outputs": [],
   "source": [
    "import numpy as np\n",
    "import pandas as pd\n",
    "import seaborn as sns\n",
    "from matplotlib import pyplot as plt\n",
    "from scipy import stats\n",
    "# from tqdm.notebook import tqdm as tqdm_notebook\n",
    "from tqdm import tqdm"
   ]
  },
  {
   "cell_type": "markdown",
   "id": "9e804852-7499-4af3-aa2a-394982f77598",
   "metadata": {},
   "source": [
    "### Задача 1. CUPED (2.5 балла)\n",
    "\n",
    "Cгенерируем выборку из $1000$ сэмплов экспоненциального распределения - это будут значения нашей метрики для $1000$ пользователей"
   ]
  },
  {
   "cell_type": "code",
   "execution_count": 6,
   "id": "c2a294bd-2de3-42e3-b3e3-9ddba24dbd67",
   "metadata": {},
   "outputs": [],
   "source": [
    "control_before = stats.expon(scale=1000).rvs(1000)"
   ]
  },
  {
   "cell_type": "code",
   "execution_count": 7,
   "id": "ef4a4179-4612-4f9f-950b-4f33e82f37f9",
   "metadata": {},
   "outputs": [
    {
     "data": {
      "image/png": "[encoded data removed]",
      "text/plain": [
       "<Figure size 640x480 with 1 Axes>"
      ]
     },
     "metadata": {},
     "output_type": "display_data"
    }
   ],
   "source": [
    "plt.hist(control_before, bins=100)\n",
    "plt.show()"
   ]
  },
  {
   "cell_type": "markdown",
   "id": "abb7d996-56cf-4973-af15-5c25d363b36f",
   "metadata": {},
   "source": [
    "Предположим, что при наблюдении метрики в дальнейшем добавляется какой-то нормальный шум"
   ]
  },
  {
   "cell_type": "code",
   "execution_count": 8,
   "id": "32e7e28a-9295-4571-ad26-69440c784738",
   "metadata": {},
   "outputs": [],
   "source": [
    "control = control_before + stats.norm(loc=0, scale=100).rvs(1000)"
   ]
  },
  {
   "cell_type": "code",
   "execution_count": 9,
   "id": "c263b130-0f79-4033-b700-5ae94523a347",
   "metadata": {},
   "outputs": [
    {
     "data": {
      "image/png": "[encoded data removed]",
      "text/plain": [
       "<Figure size 640x480 with 1 Axes>"
      ]
     },
     "metadata": {},
     "output_type": "display_data"
    }
   ],
   "source": [
    "plt.hist(control, bins=100)\n",
    "plt.show()"
   ]
  },
  {
   "cell_type": "markdown",
   "id": "b82b8e34-70aa-463c-bc33-f93238ef60d9",
   "metadata": {},
   "source": [
    "Теперь построим доверительный интервал для среднего значения нашей метрики и посмотрим, появилась ли стат значимая разница. Проведем такой эксперимент $10000$ раз"
   ]
  },
  {
   "cell_type": "code",
   "execution_count": 10,
   "id": "2aa7e96b-0131-422d-bd33-401c3e2be97c",
   "metadata": {},
   "outputs": [
    {
     "data": {
      "text/plain": [
       "array([ 941.47102065, 1070.82819665])"
      ]
     },
     "execution_count": 10,
     "metadata": {},
     "output_type": "execute_result"
    }
   ],
   "source": [
    "stats.norm(loc=control.mean(), scale=control.std() / np.sqrt(len(control))).ppf(\n",
    "    [0.025, 0.975]\n",
    ")"
   ]
  },
  {
   "cell_type": "code",
   "execution_count": 11,
   "id": "626460db-6abe-416f-840a-0922e45b010f",
   "metadata": {},
   "outputs": [
    {
     "name": "stdout",
     "output_type": "stream",
     "text": [
      "Стат значимая разница есть в 4.83% случаев;\n"
     ]
    }
   ],
   "source": [
    "bad_cnt = 0\n",
    "\n",
    "N = 10000\n",
    "for i in range(N):\n",
    "    control_before = stats.expon(scale=1000).rvs(1000)\n",
    "    control = control_before + stats.norm(loc=0, scale=100).rvs(1000)\n",
    "    left_bound, right_bound = stats.norm(\n",
    "        loc=control.mean(), scale=control.std() / np.sqrt(len(control))\n",
    "    ).ppf([0.025, 0.975])\n",
    "\n",
    "    if left_bound > 1000 or right_bound < 1000:\n",
    "        bad_cnt += 1\n",
    "\n",
    "print(f\"Стат значимая разница есть в {round(bad_cnt / N, 4) * 100}% случаев;\")"
   ]
  },
  {
   "cell_type": "markdown",
   "id": "4b6e77b1-dbf4-4de9-9d01-1e3be1eff55d",
   "metadata": {},
   "source": [
    "Как мы видим такой тест ошибается в около $5$% случаев, так как находит разницу в среднем. Ваша задача построить CUPED-метрику основываясь на данной метрике и провести аналогичный тест"
   ]
  },
  {
   "cell_type": "code",
   "execution_count": 12,
   "id": "ad0bbedc-4bbb-421f-9683-0eb7d2a6d3b9",
   "metadata": {},
   "outputs": [
    {
     "name": "stdout",
     "output_type": "stream",
     "text": [
      "Стат значимая разница есть в  84.45% случаев;\n"
     ]
    }
   ],
   "source": [
    "bad_cnt = 0\n",
    "\n",
    "N = 10000\n",
    "for i in range(N):\n",
    "    control_before = stats.expon(scale=1000).rvs(1000)\n",
    "    control = control_before + stats.norm(loc=0, scale=100).rvs(1000)\n",
    "\n",
    "    theta = (np.cov(control_before, control) / np.var(control_before))[1, 0]\n",
    "    control_cuped = control - theta * control_before + theta * control_before.mean()\n",
    "    mean = control_cuped.mean()\n",
    "    std = control_cuped.std() / np.sqrt(len(control_cuped))\n",
    "                                        \n",
    "    left_bound, right_bound = stats.norm(loc=mean, scale=std).ppf([0.025, 0.975])\n",
    "\n",
    "    if left_bound > 1000 or right_bound < 1000:\n",
    "        bad_cnt += 1\n",
    "\n",
    "print(f\"Стат значимая разница есть в  {round(bad_cnt / N, 4) * 100}% случаев;\")"
   ]
  },
  {
   "cell_type": "code",
   "execution_count": 13,
   "id": "e01f6534-5d1c-45f5-9b7c-56ca4be0a5a6",
   "metadata": {},
   "outputs": [
    {
     "data": {
      "text/plain": [
       "3.1346765137369905"
      ]
     },
     "execution_count": 13,
     "metadata": {},
     "output_type": "execute_result"
    }
   ],
   "source": [
    "std"
   ]
  },
  {
   "cell_type": "markdown",
   "id": "a83060c9-b06c-4c10-b1fa-e7d446d3fec1",
   "metadata": {},
   "source": [
    "Результат должен получиться не очень хороший. Давайте теперь сделаем иначе: сгенерируем выборку из $10000$ значений, а затем выберем $2$ группы по $1000$ юзеров, которые будут нашими группами для теста. Опять добавим шум в обе группы аналогично тому, что показано в первом примере с теми же параметрами. Ваша задача вписать CUPED метрики используя знание обо всех $10000$ юзерах."
   ]
  },
  {
   "cell_type": "code",
   "execution_count": 14,
   "id": "509730e6-ed5a-45a8-b7a4-f5bb3006b0fb",
   "metadata": {},
   "outputs": [
    {
     "name": "stdout",
     "output_type": "stream",
     "text": [
      "Стат значимая разница есть в  4.9100% случаев;\n"
     ]
    }
   ],
   "source": [
    "def calc_theta(a, b, a_before, b_before):\n",
    "    y = np.hstack([a, b])\n",
    "    y_before = np.hstack([a_before, b_before])\n",
    "    return np.cov(y_before, y)[0, 1] / y_before.var()\n",
    "\n",
    "\n",
    "bad_cnt = 0\n",
    "ttest_cnt = 0\n",
    "\n",
    "N = 10000\n",
    "for i in range(N):\n",
    "    control_before_full = stats.expon(scale=1000).rvs(1000 * 10)\n",
    "    samples_in_ab = 2000\n",
    "    indexes_to_take_a = np.random.choice(\n",
    "        range(samples_in_ab), samples_in_ab // 2, False\n",
    "    )\n",
    "    indexes_to_take_b = [x for x in range(samples_in_ab) if x not in indexes_to_take_a]\n",
    "\n",
    "    control_before_a = control_before_full[indexes_to_take_a]\n",
    "    control_before_b = control_before_full[indexes_to_take_b]\n",
    "\n",
    "    control_after_a = control_before_a + stats.norm(loc=0, scale=100).rvs(samples_in_ab // 2)\n",
    "    control_after_b = control_before_b + stats.norm(loc=0, scale=100).rvs(samples_in_ab // 2)\n",
    "\n",
    "    theta_2 = calc_theta(control_after_a, control_after_b, control_before_a, control_before_b)\n",
    "\n",
    "    control_cup_a = control_after_a - theta_2 * (control_before_a - control_before_full.mean())\n",
    "    control_cup_b = control_after_b - theta_2 * (control_before_b - control_before_full.mean())\n",
    "\n",
    "    # control_cup_a = control_after_a - theta_2 * (control_before_a)\n",
    "    # control_cup_b = control_after_b - theta_2 * (control_before_b)\n",
    "\n",
    "    if stats.kstest(control_cup_a, control_cup_b).pvalue < 0.05:\n",
    "        bad_cnt += 1\n",
    "\n",
    "    ttest_cnt += int(stats.ttest_ind(control_cup_a, control_cup_b).pvalue < 0.05)\n",
    "\n",
    "print(f\"Стат значимая разница есть в  {(round(bad_cnt / N, 4) * 100):.4f}% случаев;\")"
   ]
  },
  {
   "cell_type": "code",
   "execution_count": 15,
   "id": "5dd3c6cf-bfa4-4feb-9d29-8ae746d76e95",
   "metadata": {},
   "outputs": [
    {
     "data": {
      "text/plain": [
       "5.04"
      ]
     },
     "execution_count": 15,
     "metadata": {},
     "output_type": "execute_result"
    }
   ],
   "source": [
    "ttest_cnt / N * 100"
   ]
  },
  {
   "cell_type": "markdown",
   "id": "bfdd1352-dcae-4d89-af4c-3290a59d3c05",
   "metadata": {},
   "source": [
    "Результат получился уже совсем другой. Опишите свои мысли по поводу того, из-за чего возникает такая разница:\n",
    "\n",
    "В первом случае применения CUPED фактически сделали регрессию переменной самой на себя, что в целом пожалуй не очень корректно, тк $Var(Y_{cuped}) = Var(Y) * (1 - \\rho) \\approx 0 $ и ну как бы да (не ноль за счет наличия некоторого независимого нормального $\\epsilon$). С околонулевой дисперсией любое отклонения от нуля будет казаться нам стат значимым \n",
    "\n",
    "А далее мы считаем $\\theta$ на всей доступной выборке (на двух группах, с эффектом или без). То есть уже немного лучше, дисперсия уменьшается в подвыборках именно за счет корреляции приближенного исходного распределения и зашумленных значений. И соответственно мы \"убираем\" информацию об исходном распределении, и, в сущности, сравниваем два нормальных шума с одинаковыми параметрами. И логично получаем стат значимую разницу на уровне ошибки первого рода. \n"
   ]
  },
  {
   "cell_type": "markdown",
   "id": "8db3064b-79b1-4cf1-aea2-3da21ec42230",
   "metadata": {},
   "source": [
    "Далее проделаем такой же эксперимент при наличии реального смещения среднего значения и посмотрим на результаты с CUPED и без."
   ]
  },
  {
   "cell_type": "code",
   "execution_count": 16,
   "id": "a8fc0b3c-7e6d-4926-b0f7-2ef8a5063b65",
   "metadata": {},
   "outputs": [
    {
     "name": "stdout",
     "output_type": "stream",
     "text": [
      "Стат значимая разница есть в  6.10% случаев; при использовании CUPED -- в 47.10% случаев\n"
     ]
    }
   ],
   "source": [
    "bad_cnt = 0\n",
    "bad_cnt_cuped = 0\n",
    "\n",
    "N = 10000\n",
    "for i in range(N):\n",
    "    control_before_full = stats.expon(scale=1000).rvs(1000 * 10)\n",
    "    samples_in_ab = 2000\n",
    "    indexes_to_take_a = np.random.choice(\n",
    "        range(samples_in_ab), samples_in_ab // 2, False\n",
    "    )\n",
    "    indexes_to_take_b = [x for x in range(samples_in_ab) if x not in indexes_to_take_a]\n",
    "\n",
    "    control_before_a = control_before_full[indexes_to_take_a]\n",
    "    control_before_b = control_before_full[indexes_to_take_b]\n",
    "\n",
    "    mean_3 = control_before_full.mean()\n",
    "\n",
    "    control_after_a = control_before_a + stats.norm(loc=0, scale=100).rvs(\n",
    "        samples_in_ab // 2\n",
    "    )\n",
    "    control_after_b = control_before_b + stats.norm(loc=10, scale=100).rvs(\n",
    "        samples_in_ab // 2\n",
    "    )\n",
    "\n",
    "    theta_3 = calc_theta(control_after_a, control_after_b, control_before_a, control_before_b)\n",
    "    \n",
    "    control_cup_a = control_after_a - theta_3 * (control_before_a - mean_3)\n",
    "    control_cup_b = control_after_b - theta_3 * (control_before_b - mean_3)\n",
    "\n",
    "    if stats.kstest(control_after_a, control_after_b).pvalue < 0.05:\n",
    "        bad_cnt += 1\n",
    "\n",
    "    if stats.kstest(control_cup_a, control_cup_b).pvalue < 0.05:\n",
    "        bad_cnt_cuped += 1\n",
    "\n",
    "print(\n",
    "    f\"Стат значимая разница есть в  {round(bad_cnt / N, 4) * 100:.2f}% случаев; при использовании CUPED -- в {(round(bad_cnt_cuped / N, 4) * 100):.2f}% случаев\"\n",
    ")"
   ]
  },
  {
   "cell_type": "markdown",
   "id": "8000c6a5-8380-491d-b91c-f0fa598315b6",
   "metadata": {},
   "source": [
    "### Задача 2. Методы снижения дисперсии (2.5 балла)\n",
    "\n",
    "В этой части задания вам нужно применить методы снижения дисперсии с лекций, чтобы провести более точные тесты по данным из файла.\n",
    "\n",
    "Данные представляют собой значение какой-то метрики для трех возрастных групп пользователей. Столбец group отвечает за группу, в которой находятся пользователи: \n",
    "- `None` - пользователь не участвует в АБ тесте, \n",
    "- `*_before_i` - соответствующая группа до начала теста, \n",
    "- `*_after_i` - группа после начала эксперимента\n",
    "\n",
    "Чем больше i, тем позже было сделано наблюдение. \n",
    "\n",
    "Cчитайте, что юзеры всегда идут в одном порядке в группах. То есть `data[data.group == 'control_before_i']`\n",
    "дает юзеров в той же последовательности, что `data[data.group == 'control_after_i']` для всех i.  Аналогичное верно для тритмента.\n",
    "\n",
    "\n",
    "#### Задание\n",
    "1. Напишите тест Стьюдента самостоятельно - то есть вы должны сами вычислить тестовую статистику, а затем используя квантильную функцию определить p-value. Квантили можно брать из готовых библиотек.\n",
    "\n",
    "2. Реализуйте пост-стратификацию и CUPED. \n",
    "\n",
    "3. Проведите тесты между `control_before_i` и `treatment_before_i` снчала без применения пост-стратификации и CUPED, а затем с ними. Без применения каких-либо методов такой тест покажет p-value около $0.05$ только при i == 5. Ваша задача применить методы уменьшения дисперсии, чтобы с помощью теста Стьюдента можно было обнаружить отличие на уровне значимости $0.05$\n",
    "\n",
    "4. Опишите свои результаты."
   ]
  },
  {
   "cell_type": "code",
   "execution_count": 206,
   "id": "39855b16-66a9-4429-88c0-1452045a4401",
   "metadata": {},
   "outputs": [],
   "source": [
    "from scipy.stats import t\n",
    "\n",
    "def ttest(a, b, alpha = 0.05, H_a='two-sided', print_res=False):\n",
    "    \"\"\"проверяет H_0: mu_a - mu_b = 0\"\"\"\n",
    "    n1, n2 = a.shape[0], b.shape[0]\n",
    "    s1, s2 = a.std(), b.std()\n",
    "    s = np.sqrt(s1**2 / n1 + s2**2 / n2)\n",
    "    d_f = s**4 / ((s1**2/n1)**2/(n1 - 1) + (s2**2/n2)**2/(n2 - 1))\n",
    "    T_obs = (a.mean() - b.mean()) / s\n",
    "    if H_a == 'two-sided': \n",
    "        l, r = t(df=d_f).ppf([0.025, 0.975])\n",
    "        p_value = min(2 * t.cdf(T_obs, d_f), 2 * (1 - t.cdf(T_obs, d_f)))\n",
    "        if print_res == True:\n",
    "            # print(f'T_observed: {round(T_obs, 3)}, s_observed: {round(s, 3)}')\n",
    "            if T_obs < l or T_obs > r:\n",
    "                print(f'regect H_0, p-value = {p_value:.3f}')\n",
    "            else: \n",
    "                print(f'accept H_0, p-value = {p_value:.3f}')\n",
    "        return p_value, (p_value > alpha)\n",
    "     #H_a: mu_a - mu_b > 0\n",
    "    elif H_a == 'right':\n",
    "        p_value = 1 - t(df=d_f).cdf(T_obs)\n",
    "        if print_res:\n",
    "            if p_value > alpha:\n",
    "                print(f'regect H_0, p-value = {p_value:.3f}')\n",
    "            else: \n",
    "                print(f'accept H_0, p-value = {p_value:.3f}')\n",
    "        return p_value, (p_value > alpha)\n",
    "    #H_a: mu_a - mu_b < 0\n",
    "    elif H_a == 'left':\n",
    "        p_value = t(df=d_f).cdf(T_obs)\n",
    "        if print_res:\n",
    "            if p_value > alpha:\n",
    "                print(f'regect H_0, p-value = {p_value:.3f}')\n",
    "            else: \n",
    "                print(f'accept H_0, p-value = {p_value:.3f}')\n",
    "        return p_value, (p_value > alpha)"
   ]
  },
  {
   "cell_type": "code",
   "execution_count": 20,
   "id": "bf16c190-ebb6-4878-bd18-9ca9b160cda0",
   "metadata": {},
   "outputs": [],
   "source": [
    "data = pd.read_csv(\"data_ab.csv\")"
   ]
  },
  {
   "cell_type": "markdown",
   "id": "9c2239e5-25e0-44f9-bf36-61cc8d1c4c96",
   "metadata": {},
   "source": [
    "Размеры групп для тестирования одинаковые, поэтому можем привести данные в чуть более удобный вид"
   ]
  },
  {
   "cell_type": "code",
   "execution_count": 49,
   "id": "e8a8d9c3-f9fe-44c9-a027-3a4ab9024225",
   "metadata": {},
   "outputs": [],
   "source": [
    "group_list = ['control_before','treatment_before', 'control_after_1',\n",
    "               'treatment_after_1', 'control_after_2', 'treatment_after_2',\n",
    "               'control_after_3', 'treatment_after_3', 'control_after_4',\n",
    "               'treatment_after_4', 'control_after_5', 'treatment_after_5']\n",
    "\n",
    "def transform_data(data, age_list = ['young', 'adult', 'old'], group_list=group_list):\n",
    "    for a in age_list:\n",
    "        df = pd.DataFrame()\n",
    "        df.loc[:, 'age'] = (\n",
    "            data.loc[(data.age == a) & (data.group == 'treatment_after_1')]\n",
    "            .age.reset_index(drop=True)\n",
    "        )\n",
    "        for g in group_list:\n",
    "            df.loc[:, g] = data.loc[(data.age == a) & (data.group == g)].reset_index(drop=True).metric\n",
    "        yield df"
   ]
  },
  {
   "cell_type": "code",
   "execution_count": 50,
   "id": "084a5165-6dc3-4130-a83c-9b6227819094",
   "metadata": {},
   "outputs": [
    {
     "data": {
      "text/html": [
       "<div>\n",
       "<style scoped>\n",
       "    .dataframe tbody tr th:only-of-type {\n",
       "        vertical-align: middle;\n",
       "    }\n",
       "\n",
       "    .dataframe tbody tr th {\n",
       "        vertical-align: top;\n",
       "    }\n",
       "\n",
       "    .dataframe thead th {\n",
       "        text-align: right;\n",
       "    }\n",
       "</style>\n",
       "<table border=\"1\" class=\"dataframe\">\n",
       "  <thead>\n",
       "    <tr style=\"text-align: right;\">\n",
       "      <th></th>\n",
       "      <th>age</th>\n",
       "      <th>control_before</th>\n",
       "      <th>treatment_before</th>\n",
       "      <th>control_after_1</th>\n",
       "      <th>treatment_after_1</th>\n",
       "      <th>control_after_2</th>\n",
       "      <th>treatment_after_2</th>\n",
       "      <th>control_after_3</th>\n",
       "      <th>treatment_after_3</th>\n",
       "      <th>control_after_4</th>\n",
       "      <th>treatment_after_4</th>\n",
       "      <th>control_after_5</th>\n",
       "      <th>treatment_after_5</th>\n",
       "    </tr>\n",
       "  </thead>\n",
       "  <tbody>\n",
       "    <tr>\n",
       "      <th>0</th>\n",
       "      <td>young</td>\n",
       "      <td>8496.554679</td>\n",
       "      <td>11309.036916</td>\n",
       "      <td>8741.374306</td>\n",
       "      <td>11001.898483</td>\n",
       "      <td>9113.675629</td>\n",
       "      <td>10963.358305</td>\n",
       "      <td>8953.734508</td>\n",
       "      <td>10951.917020</td>\n",
       "      <td>9030.087523</td>\n",
       "      <td>11044.747851</td>\n",
       "      <td>9109.208016</td>\n",
       "      <td>11086.638630</td>\n",
       "    </tr>\n",
       "    <tr>\n",
       "      <th>1</th>\n",
       "      <td>young</td>\n",
       "      <td>11891.862586</td>\n",
       "      <td>9229.445011</td>\n",
       "      <td>11818.071476</td>\n",
       "      <td>9312.880516</td>\n",
       "      <td>12178.351619</td>\n",
       "      <td>9656.437561</td>\n",
       "      <td>12299.423731</td>\n",
       "      <td>9722.345791</td>\n",
       "      <td>12407.289137</td>\n",
       "      <td>9673.505484</td>\n",
       "      <td>12228.813543</td>\n",
       "      <td>10073.284614</td>\n",
       "    </tr>\n",
       "  </tbody>\n",
       "</table>\n",
       "</div>"
      ],
      "text/plain": [
       "     age  control_before  treatment_before  control_after_1  \\\n",
       "0  young     8496.554679      11309.036916      8741.374306   \n",
       "1  young    11891.862586       9229.445011     11818.071476   \n",
       "\n",
       "   treatment_after_1  control_after_2  treatment_after_2  control_after_3  \\\n",
       "0       11001.898483      9113.675629       10963.358305      8953.734508   \n",
       "1        9312.880516     12178.351619        9656.437561     12299.423731   \n",
       "\n",
       "   treatment_after_3  control_after_4  treatment_after_4  control_after_5  \\\n",
       "0       10951.917020      9030.087523       11044.747851      9109.208016   \n",
       "1        9722.345791     12407.289137        9673.505484     12228.813543   \n",
       "\n",
       "   treatment_after_5  \n",
       "0       11086.638630  \n",
       "1       10073.284614  "
      ]
     },
     "execution_count": 50,
     "metadata": {},
     "output_type": "execute_result"
    }
   ],
   "source": [
    "df = pd.concat(transform_data(data), axis=0)\n",
    "\n",
    "df.head(2)"
   ]
  },
  {
   "cell_type": "code",
   "execution_count": 156,
   "id": "15884547-14fe-45f6-9b2a-3ff7b2f60f12",
   "metadata": {},
   "outputs": [
    {
     "data": {
      "text/plain": [
       "(0.9642001147497369, True)"
      ]
     },
     "execution_count": 156,
     "metadata": {},
     "output_type": "execute_result"
    }
   ],
   "source": [
    "ttest(df.control_before, df.treatment_before)"
   ]
  },
  {
   "cell_type": "markdown",
   "id": "294d5fb6-a74e-408d-a1d5-dab34e96167d",
   "metadata": {},
   "source": [
    "#### Post-strat"
   ]
  },
  {
   "cell_type": "code",
   "execution_count": 143,
   "id": "d3c54788-09cc-4804-8c4f-c2092dc565a0",
   "metadata": {},
   "outputs": [],
   "source": [
    "# считаем веса на всех уникальных юзерах\n",
    "weights = (\n",
    "    data[data.group.isin(['treatment_before', 'control_before']) | data.group.isnull()]\n",
    "    .age.value_counts(normalize=True, sort=False)\n",
    ")"
   ]
  },
  {
   "cell_type": "code",
   "execution_count": 151,
   "id": "f09e344b-259f-4399-905b-4e02588c142e",
   "metadata": {},
   "outputs": [],
   "source": [
    "def calculate_weighted_stats(df: pd.DataFrame, weights: pd.Series, cat_column='age'):\n",
    "    \"\"\"\n",
    "    args:\n",
    "        df (pd.DataFrame): \n",
    "            cat_column (str) - category for aggregation\n",
    "            <amount> (float) - value to calculate mean and std\n",
    "        weights (pd.Series):\n",
    "            weights.index (str) - category\n",
    "            weights.values (float) - weight of a category\n",
    "        cat_column (str): name of a category\n",
    "    return:\n",
    "        (mean, std)\n",
    "    \"\"\"\n",
    "    grouped = df.groupby(cat_column).agg(['mean', 'std'])\n",
    "    grouped.columns = ['mean_est', 'std_est']\n",
    "    grouped.loc[:, 'weight'] = grouped.index.map(weights)\n",
    "\n",
    "    return (\n",
    "        (grouped.mean_est * grouped.weight).sum(),\n",
    "        (grouped.std_est * grouped.weight).sum(),\n",
    "    )"
   ]
  },
  {
   "cell_type": "code",
   "execution_count": 155,
   "id": "b0418e74-9757-4b71-88e1-72900a0ce0c3",
   "metadata": {},
   "outputs": [
    {
     "data": {
      "text/plain": [
       "(11533.27212545056, 1268.8579675172152)"
      ]
     },
     "execution_count": 155,
     "metadata": {},
     "output_type": "execute_result"
    }
   ],
   "source": [
    "calculate_weighted_stats(df.iloc[:, :2], weights)"
   ]
  },
  {
   "cell_type": "code",
   "execution_count": 202,
   "id": "a3d1f5a9-09cf-494f-b86d-89513b62ad35",
   "metadata": {},
   "outputs": [],
   "source": [
    "def ttest_strat(a: pd.DataFrame, b: pd.DataFrame, weights: pd.Series,\n",
    "                cat_column: str ='age', alpha = 0.05, print_res=False,):\n",
    "    \"\"\"\n",
    "    args:\n",
    "        a (pd.DataFrame): \n",
    "            cat_column (str) - category for aggregation\n",
    "            <amount> (float) - value to test avg\n",
    "        b (pd.DataFrame) - same as a\n",
    "        \n",
    "        weights (pd.Series):\n",
    "            weights.index (str) - category\n",
    "            weights.values (float) - weight of a category\n",
    "        cat_column (str): name of a category\n",
    "    return:\n",
    "        (p-value, res)\n",
    "    \"\"\"\n",
    "    n1 = len(a)\n",
    "    n2 = len(b)\n",
    "\n",
    "    a_mean, s1 = calculate_weighted_stats(a, weights, cat_column)\n",
    "    b_mean, s2 = calculate_weighted_stats(b, weights, cat_column)\n",
    "\n",
    "    # реализую только двусторонний\n",
    "    s = np.sqrt(s1**2 / n1 + s2**2 / n2)\n",
    "    d_f = s**4 / ((s1**2/n1)**2/(n1 - 1) + (s2**2/n2)**2/(n2 - 1))\n",
    "    T_obs = (a_mean - b_mean) / s\n",
    "    l, r = t(df=d_f).ppf([alpha / 2, (1 - alpha) / 2])\n",
    "    p_value = min(2 * t.cdf(T_obs, d_f), 2 * (1 - t.cdf(T_obs, d_f)))\n",
    "\n",
    "    decision = 'regect H_0' if T_obs < l or T_obs > r else 'accept H_0'\n",
    "    if print_res == True:\n",
    "        print(f'T_obs: {round(T_obs, 3):.3f}, s_obs: {round(s, 3):.3f}, p-value {round(p_value, 3):.3f}, {decision}')\n",
    "    return round(p_value, 4), (p_value > alpha)"
   ]
  },
  {
   "cell_type": "markdown",
   "id": "7136d83f-2023-4265-b90c-592bf3afb8e6",
   "metadata": {},
   "source": [
    "#### CUPED"
   ]
  },
  {
   "cell_type": "markdown",
   "id": "bbfbefe4-1193-4081-85c5-d65dafe8ca6b",
   "metadata": {},
   "source": [
    "выбираем в качестве ковариаты прошлые значения метрики по юзерам из обеих групп.~~выбираем как и положено из множества доступных вариантов~~"
   ]
  },
  {
   "cell_type": "code",
   "execution_count": 209,
   "id": "a0fcf277-7423-4477-9f04-cf95e58c739f",
   "metadata": {},
   "outputs": [],
   "source": [
    "def ttest_cuped(a: np.array, b: np.array, a_before: np.array, b_before: np.array,\n",
    "                mu: float, alpha = 0.05, print_res=False):\n",
    "    \"\"\"\n",
    "    a - for control group\n",
    "    b - for treatment\n",
    "    mu - mean by full available data \n",
    "    \"\"\"\n",
    "    n1, n2 = len(a), len(b)\n",
    "    theta = calc_theta(a, b, a_before, b_before)\n",
    "    # print(theta)\n",
    "    a_cuped = a - theta * a_before + theta * mu\n",
    "    b_cuped = b - theta * b_before + theta * mu\n",
    "\n",
    "    res = ttest(a_cuped, b_cuped, alpha=alpha)\n",
    "    return print(f'pvalue={round(res[0], 3)},', 'H0 rejected' if res[0] else 'H0 accepted')"
   ]
  },
  {
   "cell_type": "markdown",
   "id": "68b714c3-f415-4242-8b83-eaaf0920a451",
   "metadata": {},
   "source": [
    "#### Проверяем"
   ]
  },
  {
   "cell_type": "code",
   "execution_count": 208,
   "id": "52cdfd0b-ff11-4c00-b8b9-27dca3dda5f3",
   "metadata": {},
   "outputs": [
    {
     "name": "stdout",
     "output_type": "stream",
     "text": [
      "accept H_0, p-value = 0.692\n",
      "accept H_0, p-value = 0.403\n",
      "accept H_0, p-value = 0.234\n",
      "accept H_0, p-value = 0.121\n",
      "accept H_0, p-value = 0.054\n"
     ]
    }
   ],
   "source": [
    "for i in range(1, 6):\n",
    "\n",
    "    ttest(\n",
    "        df[f'control_after_{i}'].to_numpy(),\n",
    "        df[f'treatment_after_{i}'].to_numpy(),\n",
    "        print_res=True\n",
    "    )"
   ]
  },
  {
   "cell_type": "code",
   "execution_count": 177,
   "id": "2957a85b-0e00-4369-9c31-6177226dc139",
   "metadata": {},
   "outputs": [],
   "source": [
    "MU = data[data.group.isin(['treatment_before', 'control_before']) | data.group.isnull()].metric.mean()"
   ]
  },
  {
   "cell_type": "code",
   "execution_count": 214,
   "id": "635ee7b5-cd68-40eb-a75c-89a2f75a654b",
   "metadata": {},
   "outputs": [
    {
     "name": "stdout",
     "output_type": "stream",
     "text": [
      "T_obs: -1.163, s_obs: 27.018, p-value 0.245, accept H_0\n",
      "T_obs: -2.307, s_obs: 27.478, p-value 0.021, regect H_0\n",
      "T_obs: -3.191, s_obs: 27.895, p-value 0.001, regect H_0\n",
      "T_obs: -4.053, s_obs: 28.368, p-value 0.000, regect H_0\n",
      "T_obs: -4.982, s_obs: 28.759, p-value 0.000, regect H_0\n"
     ]
    }
   ],
   "source": [
    "for i in range(1, 6):\n",
    "\n",
    "    ttest_strat(\n",
    "        df[['age', f'control_after_{i}']],\n",
    "        df[['age', f'treatment_after_{i}']],\n",
    "        weights=weights,\n",
    "        cat_column='age',\n",
    "        print_res=True\n",
    "    )"
   ]
  },
  {
   "cell_type": "code",
   "execution_count": 210,
   "id": "e1237484-919b-4d57-b2b9-6a88ca03d886",
   "metadata": {},
   "outputs": [
    {
     "name": "stdout",
     "output_type": "stream",
     "text": [
      "pvalue=0.0, H0 rejected\n",
      "pvalue=0.0, H0 rejected\n",
      "pvalue=0.0, H0 rejected\n",
      "pvalue=0.0, H0 rejected\n",
      "pvalue=0.0, H0 rejected\n"
     ]
    }
   ],
   "source": [
    "for i in range(1, 6):\n",
    "\n",
    "    ttest_cuped(\n",
    "        df[f'control_after_{i}'].to_numpy(),\n",
    "        df[f'treatment_after_{i}'].to_numpy(),\n",
    "        df['control_before'].to_numpy(),\n",
    "        df['treatment_before'].to_numpy(),\n",
    "        MU, \n",
    "        print_res=True\n",
    "    )"
   ]
  },
  {
   "cell_type": "markdown",
   "id": "583a1678-f5da-484b-94ae-883d542ad589",
   "metadata": {},
   "source": [
    "1. При обычном тестировании мы бы не получили на первых двух итерациях результатов в принципе, а далее наши выводы будут довольно чувствительны к выбору уровня значимости и альтернативной гипотезы\n",
    "2. Стратификация уже на второй итерации дает стат. значимый результат \n",
    "3. А CUPED совсем жестко уменьшает дисперсию, получаем стат значимые результаты для любого разумного уровня значимости\n",
    "\n",
    "Так что в нашем небольшом соревновании победил cuped, но что и несильно удивительно, учитывая уровень связи \"выбранной\" ковариаты"
   ]
  },
  {
   "cell_type": "markdown",
   "id": "89f50436",
   "metadata": {},
   "source": [
    "### Задача 3. Линеаризация + CUPED (2 балла)\n",
    "\n",
    "1. В файле `duration_aa.csv` содержатся данные для АА-теста. Проверьте гипотезу о равенстве средних длительностей визита с помощью линеаризации, постройте распределение p-value.\n",
    "\n",
    "2. Мы поменяли верстку нашего сайта и запустили АБ-тест, чтобы выяснить, увеличилась ли средняя продолжительность визита при новом дизайне. Результаты теста лежат в файле `duration_ab.csv`. С помощью линеаризованной метрики проверьте, есть ли разница в средней длительности визита между контрольной и тестовой группами.\n",
    "\n",
    "3. Примените CUPED и снова проведите АБ-тест. Что произошло с p-value? Почему?\n",
    "\n",
    "В каждом пункте необходимо визуализировать распределение p-value и сонаправленность линеаризованной разности метрик и разности ratio-метрик."
   ]
  },
  {
   "cell_type": "code",
   "execution_count": null,
   "id": "eb2c04ef-2536-426d-9437-5d5b5ae998d2",
   "metadata": {},
   "outputs": [],
   "source": []
  },
  {
   "cell_type": "markdown",
   "id": "179cec30",
   "metadata": {},
   "source": [
    "### Задача 4. Последовательное тестирование (3 балла)\n",
    "\n",
    "Сгенерируйте две контрольные выборки и одну тестовую (с эффектом). Проведите последовательные АА-тесты и АБ-тесты по следующей схеме:\n",
    "\n",
    "1. Попробуйте использовать t-test. Начните с 1 наблюдения в группах и последовательно добавлять по одному в каждую. Проследите, как меняется О1Р, О2Р.\n",
    "\n",
    "2. Самостоятельно реализуйте **SPRT-тест Вальда** и проделайте ту же процедуру с ним. Что теперь происходит с О1Р и О2Р? Почему?"
   ]
  },
  {
   "cell_type": "markdown",
   "id": "ede62d8c",
   "metadata": {},
   "source": [
    "### Задача 5. Бонус от лектора (5 баллов)\n",
    "\n",
    "_3 балла за выполнение __всех__ пунктов 1-5. +2 балла за пункт 6, при условии, что пункты 1-5 выполнены._\n",
    "\n",
    "1. Реализуйте mSPRT, предполагая, что функция правдободобия имеет нормальное распределение \n",
    "2. Выведите теоретический вид статистики $\\Lambda_n$ для нормального распределения \n",
    "3. Постройте распределение времени остановки для mSPRT и распределение p-value на А/А тесте \n",
    "4. Сделайте то же самое, но для синтетического А/В (добавьте искуственно эффект). Опишите, что поменялось \n",
    "5. Сравните mSPRT с классическим t-test\n",
    "6. Замените расчет интеграла  $\\Lambda_n$ на численное приближение расчета. Сравните результаты по пункту 3 и 4"
   ]
  },
  {
   "cell_type": "code",
   "execution_count": null,
   "id": "c1549ccc",
   "metadata": {},
   "outputs": [],
   "source": []
  }
 ],
 "metadata": {
  "kernelspec": {
   "display_name": "Python 3 (ipykernel)",
   "language": "python",
   "name": "python3"
  },
  "language_info": {
   "codemirror_mode": {
    "name": "ipython",
    "version": 3
   },
   "file_extension": ".py",
   "mimetype": "text/x-python",
   "name": "python",
   "nbconvert_exporter": "python",
   "pygments_lexer": "ipython3",
   "version": "3.10.11"
  }
 },
 "nbformat": 4,
 "nbformat_minor": 5
}
